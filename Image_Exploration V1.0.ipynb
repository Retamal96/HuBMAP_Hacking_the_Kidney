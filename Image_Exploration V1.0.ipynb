{
 "cells": [
  {
   "cell_type": "markdown",
   "id": "convenient-uncle",
   "metadata": {},
   "source": [
    "# First pass through the data"
   ]
  },
  {
   "cell_type": "code",
   "execution_count": null,
   "id": "asian-obligation",
   "metadata": {},
   "outputs": [],
   "source": [
    "import numpy as np\n",
    "import pandas as pd\n",
    "import tifffile\n",
    "import cv2 as cv\n",
    "import os\n",
    "import math\n",
    "import matplotlib.pyplot as plt\n",
    "import glob\n",
    "import gc\n",
    "import tensorflow as tf\n",
    "import sys\n",
    "import skimage.morphology\n",
    "import json\n"
   ]
  },
  {
   "cell_type": "code",
   "execution_count": 1,
   "id": "infectious-newcastle",
   "metadata": {},
   "outputs": [],
   "source": [
    "import cv2\n",
    "import json\n",
    "import os\n",
    "import csv\n",
    "import numpy as np\n",
    "import matplotlib.pyplot as plt\n",
    "from PIL import Image, ImageDraw\n",
    "\n",
    "# load polygon mask\n",
    "json_filename = r'C:\\Users\\victo\\Desktop\\Hackaton\\HuBMAP_Hacking_the_Kidney\\train\\0486052bb.json'\n",
    "read_file = open(json_filename, \"r\") \n",
    "data = json.load(read_file)\n",
    "data[0]\n",
    "\n",
    "polys = []\n",
    "for index in range(data.__len__()):\n",
    "    geom = np.array(data[index]['geometry']['coordinates'])\n",
    "    polys.append(geom)\n",
    "\n",
    "shape = (18484, 13013)\n",
    "\n"
   ]
  },
  {
   "cell_type": "code",
   "execution_count": 12,
   "id": "weighted-framing",
   "metadata": {},
   "outputs": [],
   "source": [
    "# load polygon mask\n",
    "json_filename = r'C:\\Users\\victo\\Desktop\\Hackaton\\HuBMAP_Hacking_the_Kidney\\train\\0486052bb.json'\n",
    "read_file = open(json_filename, \"r\") \n",
    "data = json.load(read_file)\n"
   ]
  },
  {
   "cell_type": "code",
   "execution_count": 15,
   "id": "special-auditor",
   "metadata": {},
   "outputs": [],
   "source": [
    "polys = []\n",
    "for index in range(len(data)):\n",
    "    geom = np.array(data[index]['geometry']['coordinates'])\n",
    "    polys.append(geom)\n",
    "\n",
    "shape = (18484, 13013)"
   ]
  },
  {
   "cell_type": "code",
   "execution_count": 17,
   "id": "tutorial-insider",
   "metadata": {},
   "outputs": [
    {
     "data": {
      "text/plain": [
       "130"
      ]
     },
     "execution_count": 17,
     "metadata": {},
     "output_type": "execute_result"
    }
   ],
   "source": [
    "len(polys)"
   ]
  },
  {
   "cell_type": "code",
   "execution_count": null,
   "id": "systematic-realtor",
   "metadata": {},
   "outputs": [],
   "source": [
    "# convert to pixel mask (method 1)\n",
    "mask_1 = np.zeros(shape)\n",
    "for i in range(len(polys)):\n",
    "    cv2.fillPoly(mask_1, polys[i], i+1)\n",
    "\n",
    "plt.imshow(mask_1)\n",
    "\n",
    "mask_1\n",
    "\n",
    "range(len(polys))"
   ]
  },
  {
   "cell_type": "code",
   "execution_count": null,
   "id": "conventional-stadium",
   "metadata": {},
   "outputs": [],
   "source": [
    "mask_1 = np.zeros(shape)\n",
    "for i in range(len(polys)):\n",
    "    cv2.fillPoly(mask_1, polys[i], i+1)"
   ]
  },
  {
   "cell_type": "code",
   "execution_count": null,
   "id": "confirmed-fraction",
   "metadata": {},
   "outputs": [],
   "source": []
  },
  {
   "cell_type": "code",
   "execution_count": null,
   "id": "subsequent-david",
   "metadata": {},
   "outputs": [],
   "source": [
    "#Basic parameters \n",
    "path = r\"C:\\Users\\victo\\Desktop\\Hackaton\\HuBMAP_Hacking_the_Kidney\"\n",
    "train_path = r\"C:\\Users\\victo\\Desktop\\Hackaton\\HuBMAP_Hacking_the_Kidney\\train\\\\\""
   ]
  },
  {
   "cell_type": "code",
   "execution_count": null,
   "id": "conditional-kinase",
   "metadata": {},
   "outputs": [],
   "source": [
    "#Whats in the folder\n",
    "print('\\n'.join(os.listdir(path)))"
   ]
  },
  {
   "cell_type": "code",
   "execution_count": null,
   "id": "built-profile",
   "metadata": {},
   "outputs": [],
   "source": [
    "\n",
    "anatomical_files = [os.path.basename(f) for f in glob.glob(os.path.join(path, 'train/*.json')) if \"anatomical\" in f]\n",
    "anatomical_files = [train_path + file for file in anatomical_files]\n",
    "print(f'Number of anatomical_files: {len(anatomical_files)}')\n",
    "print('\\n'.join(anatomical_files))"
   ]
  },
  {
   "cell_type": "code",
   "execution_count": null,
   "id": "sound-expression",
   "metadata": {},
   "outputs": [],
   "source": [
    "with open(r'C:\\Users\\victo\\Desktop\\Hackaton\\HuBMAP_Hacking_the_Kidney\\train\\0486052bb.json') as f:\n",
    "    file = json.load(f)\n",
    "\n",
    "file.shape"
   ]
  },
  {
   "cell_type": "code",
   "execution_count": null,
   "id": "requested-distribution",
   "metadata": {},
   "outputs": [],
   "source": [
    "masks_files = [os.path.basename(f) for f in glob.glob(os.path.join(path, 'train/*.json')) if \"anatomical\" not in f]\n",
    "masks_files = [r\"C:\\Users\\victo\\Desktop\\Hackaton\\HuBMAP_Hacking_the_Kidney\\train\" + file for file in masks_files]\n",
    "print(f'Number of masks_files: {len(masks_files)}')\n",
    "print('\\n'.join(masks_files))"
   ]
  },
  {
   "cell_type": "code",
   "execution_count": null,
   "id": "detected-mouth",
   "metadata": {},
   "outputs": [],
   "source": [
    "train_files = sorted(glob.glob(os.path.join(path, 'train/*.tiff')))\n",
    "print(f'Number of training images: {len(train_files)}')\n",
    "print('\\n'.join(train_files))"
   ]
  },
  {
   "cell_type": "code",
   "execution_count": null,
   "id": "progressive-captain",
   "metadata": {},
   "outputs": [],
   "source": [
    "test_files = sorted(glob.glob(os.path.join(path, 'test/*.tiff')))\n",
    "print(f'Number of test images: {len(test_files)}')\n",
    "print('\\n'.join(test_files))"
   ]
  },
  {
   "cell_type": "code",
   "execution_count": null,
   "id": "eight-touch",
   "metadata": {},
   "outputs": [],
   "source": [
    "for f in train_files:\n",
    "    image = tifffile.imread(f)\n",
    "    print(f'Image {f} shape: {image.shape}', flush=True)\n",
    "    del image\n",
    "    gc.collect()\n",
    "    "
   ]
  },
  {
   "cell_type": "code",
   "execution_count": null,
   "id": "super-philip",
   "metadata": {},
   "outputs": [],
   "source": [
    "def rel_decoder(rle_mask, image_shape):\n",
    "    split = rle_mask.split()\n",
    "    start, length = split[0:][::2]\n",
    "    "
   ]
  },
  {
   "cell_type": "code",
   "execution_count": null,
   "id": "eastern-flight",
   "metadata": {},
   "outputs": [],
   "source": [
    "# Utility Functions\n",
    "def rle_to_image(rle_mask, image_shape):\n",
    "    \"\"\"\n",
    "    Converts an rle string to an image represented as a numpy array.\n",
    "    Reference: https://www.kaggle.com/paulorzp/rle-functions-run-lenght-encode-decode\n",
    "\n",
    "    :param rle_mask: string with rle mask.\n",
    "    :param image_shape: (width, height) of array to return\n",
    "    :return: Image as a numpy array. 1 = mask, 0 = background.\n",
    "    \"\"\"\n",
    "\n",
    "    # Processing\n",
    "    s = rle_mask.split()\n",
    "    starts, lengths = [np.asarray(x, dtype=int) for x in (s[0:][::2], s[1:][::2])]\n",
    "    starts -= 1\n",
    "    ends = starts + lengths\n",
    "    image = np.zeros(image_shape[0] * image_shape[1], dtype=np.uint8)\n",
    "    for lo, hi in zip(starts, ends):\n",
    "        image[lo:hi] = 1\n",
    "\n",
    "    return image.reshape(image_shape).T"
   ]
  },
  {
   "cell_type": "code",
   "execution_count": null,
   "id": "alive-given",
   "metadata": {},
   "outputs": [],
   "source": [
    "image = tifffile.imread(r'C:\\Users\\victo\\Desktop\\Hackaton\\HuBMAP_Hacking_the_Kidney\\train\\0486052bb.tiff')\n",
    "image.shape"
   ]
  },
  {
   "cell_type": "code",
   "execution_count": null,
   "id": "liquid-marketplace",
   "metadata": {},
   "outputs": [],
   "source": [
    "class image_exploration:\n",
    "    \n",
    "    def __init__(self, image_file,train_df, df_info, full_image = True):\n",
    "        self.image_file = image file\n",
    "        self.train_df = train_df\n",
    "        self.info = df_info\n",
    "        self.glob_scale = 0.25\n",
    "        self.plot_full_image = full_image\n",
    "        \n",
    "    def get_image_id(self):\n",
    "        return os.path.split(r'C:\\Users\\victo\\Desktop\\Hackaton\\HuBMAP_Hacking_the_Kidney\\train\\0486052bb.tiff')\n",
    "    \n",
    "    def read_image(self):\n",
    "        image = tifffile.imread(self.image_file)\n",
    "        \n",
    "        if image.shape[0] == 3:\n",
    "            np.transpose(image, (1,2,0))\n",
    "        \n",
    "        return image, (image.shape[0]. image_shape[1])\n",
    "        \n",
    "        \n",
    "        \n",
    "    def _image_analysis(self):\n",
    "        image_id = self.get_image_id(self.image_file)\n",
    "        image, image_shape = self.read_image(self.image_file)\n",
    "        mask = self.read_mask(image, image_shape, self.glob_scale)\n",
    "        \n",
    "        HR_mask = self.read_mask(image, image_shape, scale=1)\n",
    "        glom_df = self.get_particles(HR_mask, scale=1)\n",
    "        glom_df['Id'] = image_id\n",
    "        del HR_mask\n",
    "        gc.collect()\n",
    "        \n",
    "        info = self.info[self.info['image_file'] == f'{image_id}.tiff']\n",
    "        print(f'Image ID:        {image_id:}')\n",
    "        print(f'Image Size:      {info[\"width_pixels\"].values[0]} x {info[\"height_pixels\"].values[0]}')\n",
    "        print(f'Patient No:      {info[\"patient_number\"].values[0]}')\n",
    "        print(f'Sex:             {info[\"sex\"].values[0]}')\n",
    "        print(f'Age:             {info[\"age\"].values[0]}')\n",
    "        print(f'Race:            {info[\"race\"].values[0]}')\n",
    "        print(f'Height:          {info[\"height_centimeters\"].values[0]} cm')\n",
    "        print(f'Weight:          {info[\"weight_kilograms\"].values[0]} kg')\n",
    "        print(f'BMI:             {info[\"bmi_kg/m^2\"].values[0]} kg/m^2')\n",
    "        print(f'Laterality:      {info[\"laterality\"].values[0]}')\n",
    "        print(f'Percent Cortex:  {info[\"percent_cortex\"].values[0]} %')\n",
    "        print(f'Percent Medulla: {info[\"percent_medulla\"].values[0]} %')\n",
    "        \n",
    "        \n",
    "        "
   ]
  },
  {
   "cell_type": "code",
   "execution_count": null,
   "id": "atmospheric-argentina",
   "metadata": {},
   "outputs": [],
   "source": [
    "train_df[train_df['id']]"
   ]
  },
  {
   "cell_type": "code",
   "execution_count": null,
   "id": "pleased-vampire",
   "metadata": {},
   "outputs": [],
   "source": [
    "os.path.splitext(os.path.split(r'C:\\Users\\victo\\Desktop\\Hackaton\\HuBMAP_Hacking_the_Kidney\\train\\0486052bb.tiff')[1])[0]"
   ]
  },
  {
   "cell_type": "code",
   "execution_count": null,
   "id": "grand-minority",
   "metadata": {},
   "outputs": [],
   "source": [
    "train_df = pd.read_csv(os.path.join(path,'train.csv'))\n",
    "\n",
    "rle_mask = train_df['encoding'][0]"
   ]
  }
 ],
 "metadata": {
  "kernelspec": {
   "display_name": "Python 3",
   "language": "python",
   "name": "python3"
  },
  "language_info": {
   "codemirror_mode": {
    "name": "ipython",
    "version": 3
   },
   "file_extension": ".py",
   "mimetype": "text/x-python",
   "name": "python",
   "nbconvert_exporter": "python",
   "pygments_lexer": "ipython3",
   "version": "3.8.8"
  }
 },
 "nbformat": 4,
 "nbformat_minor": 5
}
