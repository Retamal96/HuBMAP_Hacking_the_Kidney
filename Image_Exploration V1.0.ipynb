{
 "cells": [
  {
   "cell_type": "markdown",
   "id": "convenient-uncle",
   "metadata": {},
   "source": [
    "# First pass through the data"
   ]
  },
  {
   "cell_type": "code",
   "execution_count": 4,
   "id": "asian-obligation",
   "metadata": {},
   "outputs": [],
   "source": [
    "import numpy as np\n",
    "import pandas as pd\n",
    "import tifffile\n",
    "import cv2 as cv\n",
    "import os\n",
    "import math\n",
    "import matplotlib.pyplot as plt\n",
    "import glob\n",
    "import gc\n",
    "import tensorflow as tf\n",
    "import sys\n",
    "import skimage.morphology\n"
   ]
  },
  {
   "cell_type": "code",
   "execution_count": 5,
   "id": "subsequent-david",
   "metadata": {},
   "outputs": [],
   "source": [
    "#Basic parameters \n",
    "\n",
    "path = r\"C:\\Users\\victo\\Desktop\\Hackaton\\HuBMAP_Hacking_the_Kidney\"\n",
    "\n"
   ]
  },
  {
   "cell_type": "code",
   "execution_count": 6,
   "id": "conditional-kinase",
   "metadata": {},
   "outputs": [
    {
     "name": "stdout",
     "output_type": "stream",
     "text": [
      ".git\n",
      "Code_utils\n",
      "HuBMAP-20-dataset_information.csv\n",
      "hubmap-kidney-segmentation.zip\n",
      "README.md\n",
      "sample_submission.csv\n",
      "test\n",
      "train\n",
      "train.csv\n"
     ]
    }
   ],
   "source": [
    "#Whats in the folder\n",
    "print('\\n'.join(os.listdir(path)))"
   ]
  },
  {
   "cell_type": "code",
   "execution_count": 7,
   "id": "detected-mouth",
   "metadata": {},
   "outputs": [
    {
     "name": "stdout",
     "output_type": "stream",
     "text": [
      "Number of training images: 15\n",
      "C:\\Users\\victo\\Desktop\\Hackaton\\HuBMAP_Hacking_the_Kidney\\train\\0486052bb.tiff\n",
      "C:\\Users\\victo\\Desktop\\Hackaton\\HuBMAP_Hacking_the_Kidney\\train\\095bf7a1f.tiff\n",
      "C:\\Users\\victo\\Desktop\\Hackaton\\HuBMAP_Hacking_the_Kidney\\train\\1e2425f28.tiff\n",
      "C:\\Users\\victo\\Desktop\\Hackaton\\HuBMAP_Hacking_the_Kidney\\train\\26dc41664.tiff\n",
      "C:\\Users\\victo\\Desktop\\Hackaton\\HuBMAP_Hacking_the_Kidney\\train\\2f6ecfcdf.tiff\n",
      "C:\\Users\\victo\\Desktop\\Hackaton\\HuBMAP_Hacking_the_Kidney\\train\\4ef6695ce.tiff\n",
      "C:\\Users\\victo\\Desktop\\Hackaton\\HuBMAP_Hacking_the_Kidney\\train\\54f2eec69.tiff\n",
      "C:\\Users\\victo\\Desktop\\Hackaton\\HuBMAP_Hacking_the_Kidney\\train\\8242609fa.tiff\n",
      "C:\\Users\\victo\\Desktop\\Hackaton\\HuBMAP_Hacking_the_Kidney\\train\\aaa6a05cc.tiff\n",
      "C:\\Users\\victo\\Desktop\\Hackaton\\HuBMAP_Hacking_the_Kidney\\train\\afa5e8098.tiff\n",
      "C:\\Users\\victo\\Desktop\\Hackaton\\HuBMAP_Hacking_the_Kidney\\train\\b2dc8411c.tiff\n",
      "C:\\Users\\victo\\Desktop\\Hackaton\\HuBMAP_Hacking_the_Kidney\\train\\b9a3865fc.tiff\n",
      "C:\\Users\\victo\\Desktop\\Hackaton\\HuBMAP_Hacking_the_Kidney\\train\\c68fe75ea.tiff\n",
      "C:\\Users\\victo\\Desktop\\Hackaton\\HuBMAP_Hacking_the_Kidney\\train\\cb2d976f4.tiff\n",
      "C:\\Users\\victo\\Desktop\\Hackaton\\HuBMAP_Hacking_the_Kidney\\train\\e79de561c.tiff\n"
     ]
    }
   ],
   "source": [
    "train_files = sorted(glob.glob(os.path.join(path, 'train/*.tiff')))\n",
    "print(f'Number of training images: {len(train_files)}')\n",
    "print('\\n'.join(train_files))"
   ]
  },
  {
   "cell_type": "code",
   "execution_count": 8,
   "id": "progressive-captain",
   "metadata": {},
   "outputs": [
    {
     "name": "stdout",
     "output_type": "stream",
     "text": [
      "Number of test images: 5\n",
      "C:\\Users\\victo\\Desktop\\Hackaton\\HuBMAP_Hacking_the_Kidney\\test\\2ec3f1bb9.tiff\n",
      "C:\\Users\\victo\\Desktop\\Hackaton\\HuBMAP_Hacking_the_Kidney\\test\\3589adb90.tiff\n",
      "C:\\Users\\victo\\Desktop\\Hackaton\\HuBMAP_Hacking_the_Kidney\\test\\57512b7f1.tiff\n",
      "C:\\Users\\victo\\Desktop\\Hackaton\\HuBMAP_Hacking_the_Kidney\\test\\aa05346ff.tiff\n",
      "C:\\Users\\victo\\Desktop\\Hackaton\\HuBMAP_Hacking_the_Kidney\\test\\d488c759a.tiff\n"
     ]
    }
   ],
   "source": [
    "test_files = sorted(glob.glob(os.path.join(path, 'test/*.tiff')))\n",
    "print(f'Number of test images: {len(test_files)}')\n",
    "print('\\n'.join(test_files))"
   ]
  },
  {
   "cell_type": "code",
   "execution_count": null,
   "id": "eight-touch",
   "metadata": {},
   "outputs": [],
   "source": [
    "for f in train_files:\n",
    "    image = tifffile.imread(f)\n",
    "    print(f'Image {f} shape: {image.shape}', flush=True)\n",
    "    del image\n",
    "    gc.collect()\n",
    "    "
   ]
  },
  {
   "cell_type": "code",
   "execution_count": null,
   "id": "super-philip",
   "metadata": {},
   "outputs": [],
   "source": [
    "def rel_decoder(rle_mask, image_shape):\n",
    "    split = rle_mask.split()\n",
    "    start, length = split[0:][::2]\n",
    "    "
   ]
  },
  {
   "cell_type": "code",
   "execution_count": null,
   "id": "eastern-flight",
   "metadata": {},
   "outputs": [],
   "source": [
    "# Utility Functions\n",
    "def rle_to_image(rle_mask, image_shape):\n",
    "    \"\"\"\n",
    "    Converts an rle string to an image represented as a numpy array.\n",
    "    Reference: https://www.kaggle.com/paulorzp/rle-functions-run-lenght-encode-decode\n",
    "\n",
    "    :param rle_mask: string with rle mask.\n",
    "    :param image_shape: (width, height) of array to return\n",
    "    :return: Image as a numpy array. 1 = mask, 0 = background.\n",
    "    \"\"\"\n",
    "\n",
    "    # Processing\n",
    "    s = rle_mask.split()\n",
    "    starts, lengths = [np.asarray(x, dtype=int) for x in (s[0:][::2], s[1:][::2])]\n",
    "    starts -= 1\n",
    "    ends = starts + lengths\n",
    "    image = np.zeros(image_shape[0] * image_shape[1], dtype=np.uint8)\n",
    "    for lo, hi in zip(starts, ends):\n",
    "        image[lo:hi] = 1\n",
    "\n",
    "    return image.reshape(image_shape).T"
   ]
  },
  {
   "cell_type": "code",
   "execution_count": 11,
   "id": "alive-given",
   "metadata": {},
   "outputs": [
    {
     "data": {
      "text/plain": [
       "(25784, 34937, 3)"
      ]
     },
     "execution_count": 11,
     "metadata": {},
     "output_type": "execute_result"
    }
   ],
   "source": [
    "image = tifffile.imread(r'C:\\Users\\victo\\Desktop\\Hackaton\\HuBMAP_Hacking_the_Kidney\\train\\0486052bb.tiff')\n",
    "image.shape"
   ]
  },
  {
   "cell_type": "code",
   "execution_count": null,
   "id": "liquid-marketplace",
   "metadata": {},
   "outputs": [],
   "source": [
    "class image_exploration:\n",
    "    \n",
    "    def __init__(self, image_file,train_df, df_info):\n",
    "        self.image_file = image file\n",
    "        self.train_df = train_df\n",
    "        self.info = df_info\n",
    "        self.glob_scale = 0.25\n",
    "        \n",
    "        \n",
    "        \n",
    "    def _image_analysis(self):\n",
    "        image_id = self.get_image_id(self.image_file)\n",
    "        image, image_shape = self.read_image(self.image_file)\n",
    "        mask = self.read_mask(image, image_shape, self.glob_scale)\n",
    "        \n",
    "        HR_mask = self.read_mask(image, image_shape, scale=1)\n",
    "        glom_df = self.get_particles(HR_mask, scale=1)\n",
    "        glom_df['Id'] = image_id\n",
    "        del HR_mask\n",
    "        gc.collect()\n",
    "        \n",
    "        info = self.info[self.info['image_file'] == f'{image_id}.tiff']\n",
    "        print(f'Image ID:        {image_id:}')\n",
    "        print(f'Image Size:      {info[\"width_pixels\"].values[0]} x {info[\"height_pixels\"].values[0]}')\n",
    "        print(f'Patient No:      {info[\"patient_number\"].values[0]}')\n",
    "        print(f'Sex:             {info[\"sex\"].values[0]}')\n",
    "        print(f'Age:             {info[\"age\"].values[0]}')\n",
    "        print(f'Race:            {info[\"race\"].values[0]}')\n",
    "        print(f'Height:          {info[\"height_centimeters\"].values[0]} cm')\n",
    "        print(f'Weight:          {info[\"weight_kilograms\"].values[0]} kg')\n",
    "        print(f'BMI:             {info[\"bmi_kg/m^2\"].values[0]} kg/m^2')\n",
    "        print(f'Laterality:      {info[\"laterality\"].values[0]}')\n",
    "        print(f'Percent Cortex:  {info[\"percent_cortex\"].values[0]} %')\n",
    "        print(f'Percent Medulla: {info[\"percent_medulla\"].values[0]} %')\n",
    "        \n",
    "        \n",
    "        "
   ]
  },
  {
   "cell_type": "code",
   "execution_count": null,
   "id": "atmospheric-argentina",
   "metadata": {},
   "outputs": [],
   "source": []
  },
  {
   "cell_type": "code",
   "execution_count": 9,
   "id": "grand-minority",
   "metadata": {},
   "outputs": [],
   "source": [
    "train_df = pd.read_csv(os.path.join(path,'train.csv'))\n",
    "\n",
    "rle_mask = train_df['encoding'][0]"
   ]
  }
 ],
 "metadata": {
  "kernelspec": {
   "display_name": "Python 3",
   "language": "python",
   "name": "python3"
  },
  "language_info": {
   "codemirror_mode": {
    "name": "ipython",
    "version": 3
   },
   "file_extension": ".py",
   "mimetype": "text/x-python",
   "name": "python",
   "nbconvert_exporter": "python",
   "pygments_lexer": "ipython3",
   "version": "3.8.8"
  }
 },
 "nbformat": 4,
 "nbformat_minor": 5
}
